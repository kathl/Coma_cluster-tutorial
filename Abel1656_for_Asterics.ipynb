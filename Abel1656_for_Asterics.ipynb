{
 "cells": [
  {
   "cell_type": "markdown",
   "metadata": {},
   "source": [
    "# Abell 1656: the Coma Cluster of Galaxies\n",
    "This notebook is based on the EURO-VO tutorial: \"Abell 1656: The Coma Cluster of Galaxies\" (http://www.euro-vo.org/?q=science/scientific-tutorials) and shows how to perform steps 1 to 8 from within a Jupyter notebook. Steps 9 to 11 are not yet implemented. \n",
    "\n",
    "## Introduction\n",
    "The goals of this notebook tutorial are:\n",
    " - Examine the Coma cluster of galaxies (Abell 1656) using services and data from the virtual observatory withinin a jupyter notebook in order to perform a quick evaluation of the mean redshift and velocity dispersion of the cluster. Both measurements are important to study the evolution of galaxy clusters. \n",
    " - Use redshifts and photometry (Petrosian r magnitude) of the SDSS survey and then add redshifts of the CAIRNS survey (Rines et al. 2003) in order to improve the completeness of the redshift sample.\n",
    " \n",
    "For our analysis we need to following python packages:"
   ]
  },
  {
   "cell_type": "code",
   "execution_count": 3,
   "metadata": {},
   "outputs": [],
   "source": [
    "import ipyaladin.aladin_widget as ipyal\n",
    "from astroquery.vizier import Vizier\n",
    "from astroquery.xmatch import XMatch\n",
    "from astropy.table import Table, vstack\n",
    "from astropy import units as u\n",
    "import matplotlib.pyplot as plt\n",
    "import matplotlib as mpl\n",
    "import seaborn as sns\n",
    "import numpy as np"
   ]
  },
  {
   "cell_type": "code",
   "execution_count": 2,
   "metadata": {},
   "outputs": [
    {
     "name": "stderr",
     "output_type": "stream",
     "text": [
      "UsageError: Line magic function `%ipyal` not found.\n"
     ]
    }
   ],
   "source": [
    "%ipyal inline"
   ]
  },
  {
   "cell_type": "markdown",
   "metadata": {},
   "source": [
    "## Display the region of Abell 1656 in Aladin lite\n",
    "We start by displaying the Coma Cluster in an Aladin Lite widget. We will centre the DSS2 colour images (`survey='P/DSS2/color'`) on Abell 1656 (`target='A1656'`) and set the field of view to 0.7deg (`fov=0.7`). At the distance of Coma, our field of view corresponds to approximately 1Mpc a region large enough for our purposes. \n",
    "\n",
    "Note that if you are using Jupyter lab you can now open a second python3 notebook, click on the \"Python 3\" button in the top, right corner of this notebook to switch kernel. A new window will pop up and you can then select this notebook (i.e. \"Abel1656...\") as kernel. This will link the two notebooks such that they see the same variables ect. You may use the second linked notebook to be able to look at a Aladin Lite widget the entire time, while doing the analysis work in this notebook. Please see the ipyaladin webpage for more information on how to use the widget in Jupyter lab. "
   ]
  },
  {
   "cell_type": "code",
   "execution_count": 4,
   "metadata": {},
   "outputs": [],
   "source": [
    "aladin = ipyal.Aladin(target='A1656', fov=0.7, survey='P/DSS2/color')"
   ]
  },
  {
   "cell_type": "code",
   "execution_count": 5,
   "metadata": {
    "scrolled": true
   },
   "outputs": [
    {
     "data": {
      "application/vnd.jupyter.widget-view+json": {
       "model_id": "45a5f6eb03d84302a1db078c7433d9ff",
       "version_major": 2,
       "version_minor": 0
      },
      "text/plain": [
       "Aladin(fov=0.7, options=['allow_full_zoomout', 'coo_frame', 'fov', 'full_screen', 'log', 'overlay_survey', 'ov…"
      ]
     },
     "metadata": {},
     "output_type": "display_data"
    }
   ],
   "source": [
    "aladin"
   ]
  },
  {
   "cell_type": "markdown",
   "metadata": {},
   "source": [
    "As with any Aladin Lite implementation, you can interact with this widget: \n",
    " - to zoom in and out place you mouse pointer on top of the image and scroll. \n",
    " - with <img src=\"Images/ipyaladin_layer.png\" alt=\"the Layer Button\" style=\"width:30px; display: inline-block;\"/>  you can select other image surveys and manage the current view.\n",
    " - if you like to look at another target, you can use the search field <img src=\"Images/ipyaladin_search.png\" alt=\"the Search Button\" style=\"width:30px; display: inline-block;\"/> to get there. \n",
    "\n",
    "These interactions can also be steered by changing properties of the variable `aladin`. If for example, after zooming in and out, you wanted to set the FoV again to 0.7deg, do:"
   ]
  },
  {
   "cell_type": "code",
   "execution_count": 6,
   "metadata": {},
   "outputs": [],
   "source": [
    "aladin.fov = 0.7"
   ]
  },
  {
   "cell_type": "markdown",
   "metadata": {},
   "source": [
    "## Load the SDSS-DR9 catalog and select galaxies\n",
    "In this section, we will search the SDSS DR9 catalogue at the VizieR catalogue service and then download all entries that are located within 40arcmin of the centre of the A1656. We start by querying VizieR for all catalogues that match the search term `SDSS DR9`: "
   ]
  },
  {
   "cell_type": "code",
   "execution_count": 7,
   "metadata": {},
   "outputs": [
    {
     "name": "stdout",
     "output_type": "stream",
     "text": [
      "{'II/336': 'AAVSO Photometric All Sky Survey (APASS) DR9 (Henden+, 2016)', 'V/139': 'The SDSS Photometric Catalog, Release 9 (Adelman-McCarthy+, 2012)', 'IX/48': 'Allsky cross-matched 3XMMe catalogue (Motch+, 2016)', 'J/A+A/547/L1': 'SDSS-III DR9 DLA catalogue (Noterdaeme+, 2012)', 'J/A+A/598/A92': 'New ultracool subdwarfs (Lodieu+, 2017)', 'J/MNRAS/444/2456': 'Spectral galaxy pairs from SDSS DR9 (Yang+, 2014)', 'J/MNRAS/445/1331': 'White-dwarf + main-sequence binaries in SDSS DR9 (Li+, 2014)', 'J/MNRAS/450/905': 'New SNe in SDSS DR9 (Graur+, 2015)', 'J/MNRAS/458/3808': 'DR9-12 SDSS WDMS binaries (Rebassa-Mansergas+, 2016)', 'J/other/NewA/58.61': 'SDSS DR9 galaxy clusters optical catalog (Banerjee+, 2018)', 'J/other/RAA/17.62': 'Candidate members of 4 stellar streams (Li+, 2017)'}\n"
     ]
    }
   ],
   "source": [
    "catalog_list = Vizier.find_catalogs('SDSS DR9')\n",
    "print({k:v.description for k,v in catalog_list.items()})"
   ]
  },
  {
   "cell_type": "markdown",
   "metadata": {},
   "source": [
    "We want data from the main SDSS DR9 photometric catalogues: \"The SDSS Photometric Catalog, Release 9 (Adelman-McCarthy+, 2012)\". To do so we increase the limit of loaded rows from 50 (default set-up) to as many as there are and query the catalogue within 40arcmin of the cluster centre. "
   ]
  },
  {
   "cell_type": "code",
   "execution_count": 8,
   "metadata": {},
   "outputs": [
    {
     "name": "stdout",
     "output_type": "stream",
     "text": [
      "TableList with 1 tables:\n",
      "\t'0:V/139/sdss9' with 21 column(s) and 37390 row(s) \n"
     ]
    }
   ],
   "source": [
    "Vizier.ROW_LIMIT = -1\n",
    "results1 = Vizier.query_region(\"A1656\", radius=\"0d40m0s\", catalog='V/139')\n",
    "print(results1)"
   ]
  },
  {
   "cell_type": "markdown",
   "metadata": {},
   "source": [
    "As you can see the result of our query includes data from one catalogue for 37390 objects (i.e. the table has 37390 rows). The output from this query is a list of astropy.table.table.Table objects. We now select the 0th table in this list, restrict the table to objects, which are galaxies ('cl' = 3) and also SDSS primary sources ('mode' = 1) (first line), and use only the columns named 'RA_ICRS', 'DE_ICRS', 'rmag' and 'zsp' (second line). "
   ]
  },
  {
   "cell_type": "code",
   "execution_count": 9,
   "metadata": {},
   "outputs": [
    {
     "data": {
      "text/html": [
       "<i>Table masked=True length=23771</i>\n",
       "<table id=\"table140153019865464\" class=\"table-striped table-bordered table-condensed\">\n",
       "<thead><tr><th>RA_ICRS</th><th>DE_ICRS</th><th>rmag</th><th>zsp</th></tr></thead>\n",
       "<thead><tr><th>deg</th><th>deg</th><th>mag</th><th></th></tr></thead>\n",
       "<thead><tr><th>float64</th><th>float64</th><th>float32</th><th>float64</th></tr></thead>\n",
       "<tr><td>194.569924</td><td>28.086985</td><td>22.478</td><td>--</td></tr>\n",
       "<tr><td>194.570071</td><td>28.183590</td><td>22.929</td><td>--</td></tr>\n",
       "<tr><td>194.570196</td><td>28.192751</td><td>20.766</td><td>--</td></tr>\n",
       "<tr><td>194.570584</td><td>28.218809</td><td>22.314</td><td>--</td></tr>\n",
       "<tr><td>194.570635</td><td>28.014748</td><td>22.166</td><td>--</td></tr>\n",
       "<tr><td>194.571112</td><td>28.082954</td><td>20.126</td><td>--</td></tr>\n",
       "<tr><td>194.571272</td><td>28.156997</td><td>23.555</td><td>--</td></tr>\n",
       "<tr><td>194.571287</td><td>28.157763</td><td>22.653</td><td>--</td></tr>\n",
       "<tr><td>194.571846</td><td>28.096796</td><td>20.386</td><td>--</td></tr>\n",
       "<tr><td>...</td><td>...</td><td>...</td><td>...</td></tr>\n",
       "<tr><td>195.221253</td><td>27.372262</td><td>22.266</td><td>--</td></tr>\n",
       "<tr><td>195.221766</td><td>27.362662</td><td>24.560</td><td>--</td></tr>\n",
       "<tr><td>195.234261</td><td>27.381155</td><td>21.036</td><td>--</td></tr>\n",
       "<tr><td>195.234870</td><td>27.366292</td><td>20.244</td><td>--</td></tr>\n",
       "<tr><td>195.238186</td><td>27.377357</td><td>21.092</td><td>--</td></tr>\n",
       "<tr><td>195.240371</td><td>27.366851</td><td>21.962</td><td>--</td></tr>\n",
       "<tr><td>195.241209</td><td>27.377057</td><td>20.794</td><td>--</td></tr>\n",
       "<tr><td>195.242078</td><td>27.378134</td><td>20.934</td><td>--</td></tr>\n",
       "<tr><td>195.242662</td><td>27.369376</td><td>22.027</td><td>--</td></tr>\n",
       "<tr><td>195.265460</td><td>27.380601</td><td>21.522</td><td>--</td></tr>\n",
       "</table>"
      ],
      "text/plain": [
       "<Table masked=True length=23771>\n",
       " RA_ICRS    DE_ICRS     rmag    zsp  \n",
       "   deg        deg       mag          \n",
       " float64    float64   float32 float64\n",
       "---------- ---------- ------- -------\n",
       "194.569924  28.086985  22.478      --\n",
       "194.570071  28.183590  22.929      --\n",
       "194.570196  28.192751  20.766      --\n",
       "194.570584  28.218809  22.314      --\n",
       "194.570635  28.014748  22.166      --\n",
       "194.571112  28.082954  20.126      --\n",
       "194.571272  28.156997  23.555      --\n",
       "194.571287  28.157763  22.653      --\n",
       "194.571846  28.096796  20.386      --\n",
       "       ...        ...     ...     ...\n",
       "195.221253  27.372262  22.266      --\n",
       "195.221766  27.362662  24.560      --\n",
       "195.234261  27.381155  21.036      --\n",
       "195.234870  27.366292  20.244      --\n",
       "195.238186  27.377357  21.092      --\n",
       "195.240371  27.366851  21.962      --\n",
       "195.241209  27.377057  20.794      --\n",
       "195.242078  27.378134  20.934      --\n",
       "195.242662  27.369376  22.027      --\n",
       "195.265460  27.380601  21.522      --"
      ]
     },
     "execution_count": 9,
     "metadata": {},
     "output_type": "execute_result"
    }
   ],
   "source": [
    "sdss_dr9 = results1[0][(results1[0]['cl']==3) & (results1[0]['mode']==1)]\n",
    "sdss_dr9 = sdss_dr9['RA_ICRS', 'DE_ICRS', 'rmag', 'zsp']\n",
    "sdss_dr9"
   ]
  },
  {
   "cell_type": "markdown",
   "metadata": {},
   "source": [
    "## Identify the brightest sources as being stars contaminating the sample\n",
    "Since we are only interested in galaxies of the Abell 1656 cluster, we exclude stars from our sample. To do so we select the brightest sources ('rmag' < 11.5) and check with the Aladin lite widget that we actually only exclude stars. "
   ]
  },
  {
   "cell_type": "code",
   "execution_count": 10,
   "metadata": {},
   "outputs": [
    {
     "name": "stdout",
     "output_type": "stream",
     "text": [
      "Our sample contains 11 stars.\n"
     ]
    }
   ],
   "source": [
    "stars = sdss_dr9[sdss_dr9['rmag'] < 11.5]\n",
    "aladin.add_table(stars)\n",
    "print('Our sample contains {} stars.'.format(len(stars)))"
   ]
  },
  {
   "cell_type": "markdown",
   "metadata": {},
   "source": [
    "With the line `aladin.add_table(stars)`, we have added symbols to the Aladin Lite widget at the location of the brightest sources (i.e. stars). If you now scroll back up to the Aladin Lite widget and zoom out, you will be able to find all the brightest sources. By looking at each source (zoom in on them), you will find that these are indeed stars. "
   ]
  },
  {
   "cell_type": "markdown",
   "metadata": {},
   "source": [
    "## Build a subset of galaxies with photometry and redshift in SDSS\n",
    "Now on to exploring the galaxies in our sample. \n",
    "We again build a subset, this time for all sources fainter than 11.5mag (to leave out the stars identified in the section above) but brighter than 17.77mag, which is the completeness limit the SDSS spectroscopic sample. "
   ]
  },
  {
   "cell_type": "code",
   "execution_count": 11,
   "metadata": {
    "scrolled": true
   },
   "outputs": [
    {
     "data": {
      "text/html": [
       "<i>Table masked=True length=632</i>\n",
       "<table id=\"table140153014574776\" class=\"table-striped table-bordered table-condensed\">\n",
       "<thead><tr><th>RA_ICRS</th><th>DE_ICRS</th><th>rmag</th><th>zsp</th></tr></thead>\n",
       "<thead><tr><th>deg</th><th>deg</th><th>mag</th><th></th></tr></thead>\n",
       "<thead><tr><th>float64</th><th>float64</th><th>float32</th><th>float64</th></tr></thead>\n",
       "<tr><td>194.572522</td><td>28.040079</td><td>16.927</td><td>0.02065</td></tr>\n",
       "<tr><td>194.575458</td><td>28.070532</td><td>17.258</td><td>0.15735</td></tr>\n",
       "<tr><td>194.582202</td><td>28.094842</td><td>17.195</td><td>0.02392</td></tr>\n",
       "<tr><td>194.590439</td><td>28.148753</td><td>14.516</td><td>0.02628</td></tr>\n",
       "<tr><td>194.590959</td><td>27.967780</td><td>14.059</td><td>0.02005</td></tr>\n",
       "<tr><td>194.592319</td><td>28.152134</td><td>15.193</td><td>0.02227</td></tr>\n",
       "<tr><td>194.606369</td><td>28.128924</td><td>15.663</td><td>0.02736</td></tr>\n",
       "<tr><td>194.625853</td><td>28.014753</td><td>13.784</td><td>0.02384</td></tr>\n",
       "<tr><td>194.628988</td><td>28.233622</td><td>15.986</td><td>0.02429</td></tr>\n",
       "<tr><td>...</td><td>...</td><td>...</td><td>...</td></tr>\n",
       "<tr><td>194.482062</td><td>27.490099</td><td>17.555</td><td>--</td></tr>\n",
       "<tr><td>194.484286</td><td>27.581349</td><td>15.816</td><td>0.01655</td></tr>\n",
       "<tr><td>194.503139</td><td>27.453987</td><td>16.640</td><td>0.02562</td></tr>\n",
       "<tr><td>194.503984</td><td>27.559124</td><td>16.508</td><td>--</td></tr>\n",
       "<tr><td>194.506495</td><td>27.489666</td><td>14.416</td><td>0.02543</td></tr>\n",
       "<tr><td>194.514367</td><td>27.633305</td><td>15.610</td><td>0.06803</td></tr>\n",
       "<tr><td>194.528443</td><td>27.576876</td><td>16.343</td><td>0.02501</td></tr>\n",
       "<tr><td>194.540409</td><td>27.549421</td><td>16.455</td><td>0.02327</td></tr>\n",
       "<tr><td>194.548607</td><td>27.542482</td><td>17.191</td><td>0.02375</td></tr>\n",
       "<tr><td>194.563614</td><td>27.464697</td><td>17.736</td><td>--</td></tr>\n",
       "</table>"
      ],
      "text/plain": [
       "<Table masked=True length=632>\n",
       " RA_ICRS    DE_ICRS     rmag    zsp   \n",
       "   deg        deg       mag           \n",
       " float64    float64   float32 float64 \n",
       "---------- ---------- ------- --------\n",
       "194.572522  28.040079  16.927  0.02065\n",
       "194.575458  28.070532  17.258  0.15735\n",
       "194.582202  28.094842  17.195  0.02392\n",
       "194.590439  28.148753  14.516  0.02628\n",
       "194.590959  27.967780  14.059  0.02005\n",
       "194.592319  28.152134  15.193  0.02227\n",
       "194.606369  28.128924  15.663  0.02736\n",
       "194.625853  28.014753  13.784  0.02384\n",
       "194.628988  28.233622  15.986  0.02429\n",
       "       ...        ...     ...      ...\n",
       "194.482062  27.490099  17.555       --\n",
       "194.484286  27.581349  15.816  0.01655\n",
       "194.503139  27.453987  16.640  0.02562\n",
       "194.503984  27.559124  16.508       --\n",
       "194.506495  27.489666  14.416  0.02543\n",
       "194.514367  27.633305  15.610  0.06803\n",
       "194.528443  27.576876  16.343  0.02501\n",
       "194.540409  27.549421  16.455  0.02327\n",
       "194.548607  27.542482  17.191  0.02375\n",
       "194.563614  27.464697  17.736       --"
      ]
     },
     "execution_count": 11,
     "metadata": {},
     "output_type": "execute_result"
    }
   ],
   "source": [
    "zsp17 = sdss_dr9[(sdss_dr9['rmag'] > 11.5) & (sdss_dr9['rmag'] < 17.77)]\n",
    "zsp17"
   ]
  },
  {
   "cell_type": "markdown",
   "metadata": {},
   "source": [
    "## Improve the completeness with other sources of redshifts in Vizier\n",
    "As you can see in the table above, not all galaxies in our zsp17 sample have redshift measurements (some rows have '--' in the 'zsp' column, i.e. they are masked). So in order to improve the completeness of our sample we will now use Vizier to search for redshifts in the Rines et al (2003) catalogue. First find all catalogues that match the search terms 'redshifts Rines 2003':"
   ]
  },
  {
   "cell_type": "code",
   "execution_count": 12,
   "metadata": {},
   "outputs": [
    {
     "name": "stdout",
     "output_type": "stream",
     "text": [
      "{'J/AJ/124/1266': 'Redshift survey around Abell 2199 (Rines+, 2002)', 'J/AJ/126/2152': 'Cluster And Infall Region Nearby Survey. I (Rines+, 2003)'}\n"
     ]
    }
   ],
   "source": [
    "catalog_list = Vizier.find_catalogs('redshifts Rines 2003')\n",
    "print({k:v.description for k,v in catalog_list.items()})"
   ]
  },
  {
   "cell_type": "markdown",
   "metadata": {},
   "source": [
    "Of these two catalogues, we are interested in the 'J/AJ/126/2152' catalogue, more specifically in their 'galaxies' subtable. So after dividing the zsp17 into two subsamples (the ones with zsp measurements - zsp17_with - and the ones without zsp measurements - zsp17_wihtout), we will use the `astroquery.XMatch.query` module to look for crossmatches of galaxies from the zsp17_wihtout sample in the 'J/AJ/126/2152/galaxies' hosted at Vizier."
   ]
  },
  {
   "cell_type": "code",
   "execution_count": 13,
   "metadata": {},
   "outputs": [
    {
     "name": "stderr",
     "output_type": "stream",
     "text": [
      "/usr/local/lib/python3.6/dist-packages/astropy/table/column.py:965: RuntimeWarning: invalid value encountered in less\n",
      "  return getattr(self.data, op)(other)\n",
      "/usr/local/lib/python3.6/dist-packages/astropy/table/column.py:965: RuntimeWarning: invalid value encountered in greater\n",
      "  return getattr(self.data, op)(other)\n",
      "WARNING: AstropyDeprecationWarning: zsp17_without.csv already exists. Automatically overwriting ASCII files is deprecated. Use the argument 'overwrite=True' in the future. [astropy.io.ascii.ui]\n"
     ]
    },
    {
     "data": {
      "text/html": [
       "<i>Table masked=True length=27</i>\n",
       "<table id=\"table140153007335856\" class=\"table-striped table-bordered table-condensed\">\n",
       "<thead><tr><th>angDist</th><th>RA_ICRS</th><th>DE_ICRS</th><th>rmag</th><th>zsp</th><th>_RAJ2000</th><th>_DEJ2000</th><th>RAJ2000</th><th>DEJ2000</th><th>cz</th><th>e_cz</th><th>r_cz</th><th>Cluster</th></tr></thead>\n",
       "<thead><tr><th>float64</th><th>float64</th><th>float64</th><th>float64</th><th>int64</th><th>float64</th><th>float64</th><th>str11</th><th>str11</th><th>int64</th><th>int64</th><th>int64</th><th>str5</th></tr></thead>\n",
       "<tr><td>2.355166</td><td>194.804612</td><td>27.976975</td><td>15.824</td><td>--</td><td>194.80417</td><td>27.9775</td><td>12 59 13.00</td><td>+27 58 39.0</td><td>6747</td><td>64</td><td>1</td><td>A1656</td></tr>\n",
       "<tr><td>4.511264</td><td>194.869572</td><td>28.085778</td><td>16.586</td><td>--</td><td>194.86833</td><td>28.08517</td><td>12 59 28.40</td><td>+28 05 06.6</td><td>3650</td><td>100</td><td>2</td><td>A1656</td></tr>\n",
       "<tr><td>2.499691</td><td>194.91736</td><td>28.179347</td><td>17.323</td><td>--</td><td>194.91658</td><td>28.17925</td><td>12 59 39.98</td><td>+28 10 45.3</td><td>5437</td><td>--</td><td>2</td><td>A1656</td></tr>\n",
       "<tr><td>0.642092</td><td>195.044832</td><td>27.990943</td><td>14.771</td><td>--</td><td>195.04475</td><td>27.99078</td><td>13 00 10.74</td><td>+27 59 26.8</td><td>23078</td><td>41</td><td>2</td><td>A1656</td></tr>\n",
       "<tr><td>0.854695</td><td>195.082099</td><td>28.121521</td><td>17.696</td><td>--</td><td>195.08183</td><td>28.12153</td><td>13 00 19.64</td><td>+28 07 17.5</td><td>6659</td><td>65</td><td>2</td><td>A1656</td></tr>\n",
       "<tr><td>0.549166</td><td>194.629479</td><td>27.895503</td><td>17.676</td><td>--</td><td>194.62933</td><td>27.89558</td><td>12 58 31.04</td><td>+27 53 44.1</td><td>6804</td><td>83</td><td>2</td><td>A1656</td></tr>\n",
       "<tr><td>1.36229</td><td>194.7349</td><td>27.803568</td><td>17.533</td><td>--</td><td>194.73492</td><td>27.80319</td><td>12 58 56.38</td><td>+27 48 11.5</td><td>7864</td><td>64</td><td>2</td><td>A1656</td></tr>\n",
       "<tr><td>2.658001</td><td>194.847414</td><td>27.911604</td><td>13.451</td><td>--</td><td>194.84667</td><td>27.91194</td><td>12 59 23.20</td><td>+27 54 43.0</td><td>6899</td><td>31</td><td>1</td><td>A1656</td></tr>\n",
       "<tr><td>0.283759</td><td>194.860237</td><td>27.856882</td><td>17.548</td><td>--</td><td>194.86017</td><td>27.85683</td><td>12 59 26.44</td><td>+27 51 24.6</td><td>5007</td><td>75</td><td>2</td><td>A1656</td></tr>\n",
       "<tr><td>0.665896</td><td>194.899867</td><td>27.906112</td><td>17.639</td><td>--</td><td>194.89979</td><td>27.90594</td><td>12 59 35.95</td><td>+27 54 21.4</td><td>9054</td><td>75</td><td>2</td><td>A1656</td></tr>\n",
       "<tr><td>...</td><td>...</td><td>...</td><td>...</td><td>...</td><td>...</td><td>...</td><td>...</td><td>...</td><td>...</td><td>...</td><td>...</td><td>...</td></tr>\n",
       "<tr><td>4.318027</td><td>195.549769</td><td>28.173223</td><td>16.363</td><td>--</td><td>195.54879</td><td>28.17239</td><td>13 02 11.71</td><td>+28 10 20.6</td><td>8950</td><td>11</td><td>2</td><td>A1656</td></tr>\n",
       "<tr><td>0.283253</td><td>195.213773</td><td>27.689156</td><td>17.643</td><td>--</td><td>195.21375</td><td>27.68908</td><td>13 00 51.30</td><td>+27 41 20.7</td><td>8184</td><td>75</td><td>2</td><td>A1656</td></tr>\n",
       "<tr><td>1.94956</td><td>195.246911</td><td>27.899816</td><td>14.461</td><td>--</td><td>195.24642</td><td>27.90014</td><td>13 00 59.14</td><td>+27 54 00.5</td><td>6934</td><td>24</td><td>1</td><td>A1656</td></tr>\n",
       "<tr><td>2.324475</td><td>195.442461</td><td>27.9578</td><td>15.158</td><td>--</td><td>195.44187</td><td>27.95742</td><td>13 01 46.05</td><td>+27 57 26.7</td><td>4706</td><td>13</td><td>2</td><td>A1656</td></tr>\n",
       "<tr><td>0.09409</td><td>194.724123</td><td>27.388636</td><td>17.521</td><td>--</td><td>194.72412</td><td>27.38861</td><td>12 58 53.79</td><td>+27 23 19.0</td><td>7654</td><td>50</td><td>2</td><td>A1656</td></tr>\n",
       "<tr><td>4.771328</td><td>195.074954</td><td>27.385966</td><td>17.653</td><td>--</td><td>195.07433</td><td>27.38717</td><td>13 00 17.84</td><td>+27 23 13.8</td><td>11114</td><td>9</td><td>2</td><td>A1656</td></tr>\n",
       "<tr><td>0.515781</td><td>194.562693</td><td>28.125907</td><td>14.632</td><td>--</td><td>194.56283</td><td>28.12583</td><td>12 58 15.08</td><td>+28 07 33.0</td><td>7428</td><td>23</td><td>1</td><td>A1656</td></tr>\n",
       "<tr><td>1.22674</td><td>195.169506</td><td>28.519893</td><td>15.869</td><td>--</td><td>195.16912</td><td>28.51986</td><td>13 00 40.59</td><td>+28 31 11.5</td><td>8901</td><td>4</td><td>2</td><td>A1656</td></tr>\n",
       "<tr><td>1.007994</td><td>195.466883</td><td>27.636194</td><td>17.703</td><td>--</td><td>195.46675</td><td>27.63594</td><td>13 01 52.02</td><td>+27 38 09.4</td><td>17437</td><td>27</td><td>2</td><td>A1656</td></tr>\n",
       "<tr><td>0.272222</td><td>194.563614</td><td>27.464697</td><td>17.736</td><td>--</td><td>194.56367</td><td>27.46464</td><td>12 58 15.28</td><td>+27 27 52.7</td><td>7625</td><td>27</td><td>2</td><td>A1656</td></tr>\n",
       "</table>"
      ],
      "text/plain": [
       "<Table masked=True length=27>\n",
       "angDist   RA_ICRS    DE_ICRS    rmag   zsp  ...   cz   e_cz  r_cz Cluster\n",
       "float64   float64    float64  float64 int64 ... int64 int64 int64   str5 \n",
       "-------- ---------- --------- ------- ----- ... ----- ----- ----- -------\n",
       "2.355166 194.804612 27.976975  15.824    -- ...  6747    64     1   A1656\n",
       "4.511264 194.869572 28.085778  16.586    -- ...  3650   100     2   A1656\n",
       "2.499691  194.91736 28.179347  17.323    -- ...  5437    --     2   A1656\n",
       "0.642092 195.044832 27.990943  14.771    -- ... 23078    41     2   A1656\n",
       "0.854695 195.082099 28.121521  17.696    -- ...  6659    65     2   A1656\n",
       "0.549166 194.629479 27.895503  17.676    -- ...  6804    83     2   A1656\n",
       " 1.36229   194.7349 27.803568  17.533    -- ...  7864    64     2   A1656\n",
       "2.658001 194.847414 27.911604  13.451    -- ...  6899    31     1   A1656\n",
       "0.283759 194.860237 27.856882  17.548    -- ...  5007    75     2   A1656\n",
       "0.665896 194.899867 27.906112  17.639    -- ...  9054    75     2   A1656\n",
       "     ...        ...       ...     ...   ... ...   ...   ...   ...     ...\n",
       "4.318027 195.549769 28.173223  16.363    -- ...  8950    11     2   A1656\n",
       "0.283253 195.213773 27.689156  17.643    -- ...  8184    75     2   A1656\n",
       " 1.94956 195.246911 27.899816  14.461    -- ...  6934    24     1   A1656\n",
       "2.324475 195.442461   27.9578  15.158    -- ...  4706    13     2   A1656\n",
       " 0.09409 194.724123 27.388636  17.521    -- ...  7654    50     2   A1656\n",
       "4.771328 195.074954 27.385966  17.653    -- ... 11114     9     2   A1656\n",
       "0.515781 194.562693 28.125907  14.632    -- ...  7428    23     1   A1656\n",
       " 1.22674 195.169506 28.519893  15.869    -- ...  8901     4     2   A1656\n",
       "1.007994 195.466883 27.636194  17.703    -- ... 17437    27     2   A1656\n",
       "0.272222 194.563614 27.464697  17.736    -- ...  7625    27     2   A1656"
      ]
     },
     "execution_count": 13,
     "metadata": {},
     "output_type": "execute_result"
    }
   ],
   "source": [
    "ind = (zsp17['zsp'] < 5.) & (zsp17['zsp'] > 0.) # measured redshifts are between 0. and 2.\n",
    "zsp17_with = zsp17[ind]\n",
    "zsp17_without = zsp17[~ind]\n",
    "zsp17_without.write('zsp17_without.csv')\n",
    "table = XMatch.query(cat1=open('zsp17_without.csv'), \n",
    "                     cat2='vizier:J/AJ/126/2152/galaxies',\n",
    "                     max_distance=5 * u.arcsec, colRA1='RA_ICRS',\n",
    "                     colDec1='DE_ICRS')\n",
    "table"
   ]
  },
  {
   "cell_type": "markdown",
   "metadata": {},
   "source": [
    "## Build the final catalogue including the Rines et al. (2003) redshifts\n",
    "The resulting table of the cross-match above contains 27 rows, so we have found recession velocity ('cz') measurements for 27 galaxies. Now let's add these data to the zsp17_with table."
   ]
  },
  {
   "cell_type": "code",
   "execution_count": 14,
   "metadata": {},
   "outputs": [
    {
     "data": {
      "text/html": [
       "<i>Table masked=True length=511</i>\n",
       "<table id=\"table140153019864736\" class=\"table-striped table-bordered table-condensed\">\n",
       "<thead><tr><th>RA_ICRS</th><th>DE_ICRS</th><th>rmag</th><th>zsp</th><th>cz</th></tr></thead>\n",
       "<thead><tr><th>deg</th><th>deg</th><th>mag</th><th></th><th></th></tr></thead>\n",
       "<thead><tr><th>float64</th><th>float64</th><th>float64</th><th>float64</th><th>float64</th></tr></thead>\n",
       "<tr><td>194.572522</td><td>28.040079</td><td>16.927</td><td>0.02065</td><td>6195.00000</td></tr>\n",
       "<tr><td>194.575458</td><td>28.070532</td><td>17.258</td><td>0.15735</td><td>47205.00000</td></tr>\n",
       "<tr><td>194.582202</td><td>28.094842</td><td>17.195</td><td>0.02392</td><td>7176.00000</td></tr>\n",
       "<tr><td>194.590439</td><td>28.148753</td><td>14.516</td><td>0.02628</td><td>7884.00000</td></tr>\n",
       "<tr><td>194.590959</td><td>27.967780</td><td>14.059</td><td>0.02005</td><td>6015.00000</td></tr>\n",
       "<tr><td>194.592319</td><td>28.152134</td><td>15.193</td><td>0.02227</td><td>6681.00000</td></tr>\n",
       "<tr><td>194.606369</td><td>28.128924</td><td>15.663</td><td>0.02736</td><td>8208.00000</td></tr>\n",
       "<tr><td>194.625853</td><td>28.014753</td><td>13.784</td><td>0.02384</td><td>7152.00000</td></tr>\n",
       "<tr><td>194.628988</td><td>28.233622</td><td>15.986</td><td>0.02429</td><td>7287.00000</td></tr>\n",
       "<tr><td>...</td><td>...</td><td>...</td><td>...</td><td>...</td></tr>\n",
       "<tr><td>195.549769</td><td>28.173223</td><td>16.363</td><td>--</td><td>8950.00000</td></tr>\n",
       "<tr><td>195.213773</td><td>27.689156</td><td>17.643</td><td>--</td><td>8184.00000</td></tr>\n",
       "<tr><td>195.246911</td><td>27.899816</td><td>14.461</td><td>--</td><td>6934.00000</td></tr>\n",
       "<tr><td>195.442461</td><td>27.957800</td><td>15.158</td><td>--</td><td>4706.00000</td></tr>\n",
       "<tr><td>194.724123</td><td>27.388636</td><td>17.521</td><td>--</td><td>7654.00000</td></tr>\n",
       "<tr><td>195.074954</td><td>27.385966</td><td>17.653</td><td>--</td><td>11114.00000</td></tr>\n",
       "<tr><td>194.562693</td><td>28.125907</td><td>14.632</td><td>--</td><td>7428.00000</td></tr>\n",
       "<tr><td>195.169506</td><td>28.519893</td><td>15.869</td><td>--</td><td>8901.00000</td></tr>\n",
       "<tr><td>195.466883</td><td>27.636194</td><td>17.703</td><td>--</td><td>17437.00000</td></tr>\n",
       "<tr><td>194.563614</td><td>27.464697</td><td>17.736</td><td>--</td><td>7625.00000</td></tr>\n",
       "</table>"
      ],
      "text/plain": [
       "<Table masked=True length=511>\n",
       " RA_ICRS    DE_ICRS     rmag    zsp         cz    \n",
       "   deg        deg       mag                       \n",
       " float64    float64   float64 float64    float64  \n",
       "---------- ---------- ------- -------- -----------\n",
       "194.572522  28.040079  16.927  0.02065  6195.00000\n",
       "194.575458  28.070532  17.258  0.15735 47205.00000\n",
       "194.582202  28.094842  17.195  0.02392  7176.00000\n",
       "194.590439  28.148753  14.516  0.02628  7884.00000\n",
       "194.590959  27.967780  14.059  0.02005  6015.00000\n",
       "194.592319  28.152134  15.193  0.02227  6681.00000\n",
       "194.606369  28.128924  15.663  0.02736  8208.00000\n",
       "194.625853  28.014753  13.784  0.02384  7152.00000\n",
       "194.628988  28.233622  15.986  0.02429  7287.00000\n",
       "       ...        ...     ...      ...         ...\n",
       "195.549769  28.173223  16.363       --  8950.00000\n",
       "195.213773  27.689156  17.643       --  8184.00000\n",
       "195.246911  27.899816  14.461       --  6934.00000\n",
       "195.442461  27.957800  15.158       --  4706.00000\n",
       "194.724123  27.388636  17.521       --  7654.00000\n",
       "195.074954  27.385966  17.653       -- 11114.00000\n",
       "194.562693  28.125907  14.632       --  7428.00000\n",
       "195.169506  28.519893  15.869       --  8901.00000\n",
       "195.466883  27.636194  17.703       -- 17437.00000\n",
       "194.563614  27.464697  17.736       --  7625.00000"
      ]
     },
     "execution_count": 14,
     "metadata": {},
     "output_type": "execute_result"
    }
   ],
   "source": [
    "zsp17_with['cz'] = zsp17_with['zsp'] * 300000\n",
    "zsp17_without = table[zsp17_with.colnames]\n",
    "zsp17_final = vstack([zsp17_with, zsp17_without])\n",
    "zsp17_final"
   ]
  },
  {
   "cell_type": "markdown",
   "metadata": {},
   "source": [
    "## Determine the cz distribution, the cluster average velocity and velocity dispersion\n",
    "Based on the 511 galaxies, for which we now have measurements of their recession velocities, we can now analyse the recession velocity and velocity dispersion of the Abell 1656 galaxy cluster. First we visualise the entire sample:"
   ]
  },
  {
   "cell_type": "code",
   "execution_count": 15,
   "metadata": {},
   "outputs": [
    {
     "data": {
      "text/plain": [
       "<matplotlib.axes._axes.Axes at 0x7f77eaf69be0>"
      ]
     },
     "execution_count": 15,
     "metadata": {},
     "output_type": "execute_result"
    },
    {
     "data": {
      "image/png": "[encoded data removed]",
      "text/plain": [
       "<Figure size 540x432 with 1 Axes>"
      ]
     },
     "metadata": {},
     "output_type": "display_data"
    }
   ],
   "source": [
    "sns.set_style(\"darkgrid\")\n",
    "fig = plt.figure(figsize=(7.5, 6.0))\n",
    "ax = fig.add_axes([0.17, 0.17, 0.77, 0.77])\n",
    "sns.distplot(zsp17_final['cz'], rug=True, ax=ax, kde=False)"
   ]
  },
  {
   "cell_type": "markdown",
   "metadata": {},
   "source": [
    "Note how there is a large range of recession velocities in our sample. We are only interested in the range of recession velocities of the Coma cluster. These are included in the peak at low velocities. To focus on these, we restrict ourselves to recession velocities between 3000 and 11000 km/s. For easy analysis we first create the subsample `zsp17_coma` and then visualise the distribution of the recession velocity in this subsample:"
   ]
  },
  {
   "cell_type": "code",
   "execution_count": 16,
   "metadata": {},
   "outputs": [
    {
     "data": {
      "text/plain": [
       "(3000, 11000)"
      ]
     },
     "execution_count": 16,
     "metadata": {},
     "output_type": "execute_result"
    },
    {
     "data": {
      "image/png": "[encoded data removed]",
      "text/plain": [
       "<Figure size 540x432 with 1 Axes>"
      ]
     },
     "metadata": {},
     "output_type": "display_data"
    }
   ],
   "source": [
    "ind = (zsp17_final['cz'] > 3000.) & (zsp17_final['cz'] < 11000.)\n",
    "zsp17_coma = zsp17_final[ind]\n",
    "\n",
    "sns.set_style(\"darkgrid\")\n",
    "fig = plt.figure(figsize=(7.5, 6.0))\n",
    "ax = fig.add_axes([0.17, 0.17, 0.77, 0.77])\n",
    "sns.distplot(zsp17_coma['cz'], rug=True, ax=ax, kde=False)\n",
    "ax.set_xlim([3000, 11000])"
   ]
  },
  {
   "cell_type": "markdown",
   "metadata": {},
   "source": [
    "These are data of all galaxies for which we collected redshift/recession velocity measurements and which are in the vincinity of the cluster (both spatially and in recession velocity). Now let's calculate the mean recession velocity of the cluster and its velocity dispersion:"
   ]
  },
  {
   "cell_type": "code",
   "execution_count": 17,
   "metadata": {},
   "outputs": [
    {
     "name": "stdout",
     "output_type": "stream",
     "text": [
      "The mean velocity in Coma is: 6978.4km/s and the standard deviation (i.e. velocity dispersion):1138.9km/s\n"
     ]
    }
   ],
   "source": [
    "print('The mean velocity in Coma is: {0:.1f}km/s and \\\n",
    "the standard deviation (i.e. velocity dispersion):\\\n",
    "{1:.1f}km/s'.format(np.mean(zsp17_coma['cz']), np.std(zsp17_coma['cz'])))"
   ]
  },
  {
   "cell_type": "markdown",
   "metadata": {},
   "source": [
    "This is in agreement with more refined analyses (see for example Sohn et al. 2017, ApJS, 229, 20). "
   ]
  },
  {
   "cell_type": "code",
   "execution_count": null,
   "metadata": {},
   "outputs": [],
   "source": []
  }
 ],
 "metadata": {
  "kernelspec": {
   "display_name": "Python 3",
   "language": "python",
   "name": "python3"
  },
  "language_info": {
   "codemirror_mode": {
    "name": "ipython",
    "version": 3
   },
   "file_extension": ".py",
   "mimetype": "text/x-python",
   "name": "python",
   "nbconvert_exporter": "python",
   "pygments_lexer": "ipython3",
   "version": "3.6.7"
  },
  "widgets": {
   "application/vnd.jupyter.widget-state+json": {
    "state": {
     "0c13f7870adc4211b455bed945015dcf": {
      "model_module": "@jupyter-widgets/base",
      "model_module_version": "1.0.0",
      "model_name": "LayoutModel",
      "state": {}
     },
     "aa178e6e2fae4e91b9e23a3acf69ca1f": {
      "model_module": "jupyter-widget-ipyaladin",
      "model_module_version": "1.0.0",
      "model_name": "ModelAladin",
      "state": {
       "_dom_classes": [],
       "_model_module": "jupyter-widget-ipyaladin",
       "_model_module_version": "1.0.0",
       "_view_count": null,
       "_view_module": "jupyter-widget-ipyaladin",
       "_view_module_version": "",
       "allow_full_zoomout": false,
       "color_map_flag": true,
       "color_map_name": "",
       "coo_frame": "J2000",
       "fov": 1.40619,
       "full_screen": false,
       "layout": "IPY_MODEL_0c13f7870adc4211b455bed945015dcf",
       "listener_flag": true,
       "listener_type": "",
       "log": true,
       "moc_URL": "",
       "moc_dict": {},
       "moc_from_URL_flag": true,
       "moc_from_dict_flag": true,
       "moc_options": {},
       "options": [
        "show_reticle",
        "show_fullscreen_control",
        "show_share_control",
        "show_catalog",
        "target",
        "full_screen",
        "reticle_size",
        "show_layers_control",
        "show_zoom_control",
        "reticle_color",
        "show_coo_grid",
        "allow_full_zoomout",
        "show_goto_control",
        "coo_frame",
        "log",
        "fov",
        "show_frame",
        "survey"
       ],
       "reticle_color": "rgb(178, 50, 178)",
       "reticle_size": 22,
       "show_catalog": true,
       "show_coo_grid": false,
       "show_frame": true,
       "show_fullscreen_control": true,
       "show_goto_control": true,
       "show_layers_control": true,
       "show_reticle": true,
       "show_share_control": false,
       "show_zoom_control": true,
       "survey": "P/DSS2/color",
       "table_columns": [
        [
         194.88736,
         28.065691,
         7.1529998779296875,
         "nan"
        ],
        [
         194.640752,
         28.319632,
         10.307999610900879,
         "nan"
        ],
        [
         195.128886,
         28.458728,
         10.310999870300293,
         "nan"
        ],
        [
         195.541406,
         27.814279,
         11.22700023651123,
         "nan"
        ],
        [
         194.603873,
         27.657591,
         11.380999565124512,
         "nan"
        ],
        [
         194.670155,
         27.474267,
         7.789999961853027,
         "nan"
        ],
        [
         195.17432,
         28.510105,
         9.71500015258789,
         "nan"
        ],
        [
         195.295146,
         27.466945,
         10.520999908447266,
         "nan"
        ],
        [
         194.976192,
         28.631648,
         9.12399959564209,
         "nan"
        ],
        [
         195.082926,
         28.63682,
         10.666999816894531,
         "nan"
        ],
        [
         194.411009,
         28.43057,
         9.704999923706055,
         "nan"
        ]
       ],
       "table_flag": false,
       "table_keys": [
        "RA_ICRS",
        "DE_ICRS",
        "rmag",
        "zsp"
       ],
       "target": "194.952920 27.980560",
       "thumbnail_flag": true,
       "votable_URL": "",
       "votable_from_URL_flag": true,
       "votable_options": {}
      }
     }
    },
    "version_major": 2,
    "version_minor": 0
   }
  }
 },
 "nbformat": 4,
 "nbformat_minor": 2
}
