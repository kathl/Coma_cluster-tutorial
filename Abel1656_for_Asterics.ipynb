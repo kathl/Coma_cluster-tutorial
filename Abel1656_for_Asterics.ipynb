{
 "cells": [
  {
   "cell_type": "markdown",
   "metadata": {},
   "source": [
    "# Abell 1656: the Coma Cluster of Galaxies\n",
    "This notebook is based on the EURO-VO tutorial: \"Abell 1656: The Coma Cluster of Galaxies\" (http://www.euro-vo.org/?q=science/scientific-tutorials) and shows how to perform steps 1 to 8 from within a Jupyter notebook. Steps 9 to 11 are not yet implemented. \n",
    "\n",
    "## Introduction\n",
    "The goals of this notebook tutorial are:\n",
    " - Examine the Coma cluster of galaxies (Abell 1656) using VO data and tools withinin a jupyter notebook in order to perform a quick evaluation of the mean redshift and velocity dispersion of the cluster.\n",
    " - Use redshifts and photometry (Petrosian r magnitude) of the SDSS survey and then add redshifts of the CAIRNS survey (Rines et al. 2003) in order to improve the completeness of the redshift sample.\n",
    " \n",
    "For our analysis we need to following python packages:"
   ]
  },
  {
   "cell_type": "code",
   "execution_count": 2,
   "metadata": {},
   "outputs": [],
   "source": [
    "import ipyaladin.aladin_widget as ipyal\n",
    "from astroquery.vizier import Vizier\n",
    "from astroquery.xmatch import XMatch\n",
    "from astropy.table import Table, vstack\n",
    "from astropy import units as u\n",
    "import matplotlib.pyplot as plt\n",
    "import matplotlib as mpl\n",
    "import seaborn as sns\n",
    "import numpy as np"
   ]
  },
  {
   "cell_type": "code",
   "execution_count": 3,
   "metadata": {},
   "outputs": [
    {
     "name": "stderr",
     "output_type": "stream",
     "text": [
      "UsageError: Line magic function `%ipyal` not found.\n"
     ]
    }
   ],
   "source": [
    "%ipyal inline"
   ]
  },
  {
   "cell_type": "markdown",
   "metadata": {},
   "source": [
    "## Display the region of Abell 1656 in Aladin lite\n",
    "We start by displaying the Coma Cluster in an Aladin Lite widget. We will centre the DSS2 colour images (`survey='P/DSS2/color'`) on Abell 1656 (`target='A1656'`) and set the field of view to 0.7deg (`fov=0.7`). At the distance of Coma, our field of view corresponds to approximately 1Mpc a region large enough for our purposes. \n",
    "\n",
    "Note that if you are using Jupyter lab you can now open a second python3 notebook, click on the \"Python 3\" button in the top, right corner of this notebook to switch kernel. A new window will pop up and you can then select this notebook (i.e. \"Abel1656...\") as kernel. This will link the two notebooks such that they see the same variables ect. You may use the second linked notebook to be able to look at a Aladin Lite widget the entire time, while doing the analysis work in this notebook. Please see the ipyaladin webpage for more information on how to use the widget in Jupyter lab. "
   ]
  },
  {
   "cell_type": "code",
   "execution_count": 4,
   "metadata": {},
   "outputs": [],
   "source": [
    "aladin = ipyal.Aladin(target='A1656', fov=0.7, survey='P/DSS2/color')"
   ]
  },
  {
   "cell_type": "code",
   "execution_count": 5,
   "metadata": {
    "scrolled": true
   },
   "outputs": [
    {
     "data": {
      "application/vnd.jupyter.widget-view+json": {
       "model_id": "2cb0d39f5771440da35b86a61fb1b210",
       "version_major": 2,
       "version_minor": 0
      },
      "text/plain": [
       "Aladin(fov=0.7, options=['allow_full_zoomout', 'coo_frame', 'fov', 'full_screen', 'log', 'overlay_survey', 'ov…"
      ]
     },
     "metadata": {},
     "output_type": "display_data"
    }
   ],
   "source": [
    "aladin"
   ]
  },
  {
   "cell_type": "markdown",
   "metadata": {},
   "source": [
    "As with any Aladin Lite implementation, you can interact with this widget: \n",
    " - to zoom in and out place you mouse pointer on top of the image and scroll. \n",
    " - with <img src=\"Images/ipyaladin_layer.png\" alt=\"the Layer Button\" style=\"width:30px; display: inline-block;\"/>  you can select other image surveys and manage the current view.\n",
    " - if you like to look at another target, you can use the search field <img src=\"Images/ipyaladin_search.png\" alt=\"the Search Button\" style=\"width:30px; display: inline-block;\"/> to get there. \n",
    "\n",
    "These interactions can also be steered by changing properties of the variable `aladin`. If for example you wanted to focus on M101 instead of the Antennae galaxies, do:"
   ]
  },
  {
   "cell_type": "markdown",
   "metadata": {},
   "source": [
    "## Load the SDSS-DR9 catalog and select galaxies"
   ]
  },
  {
   "cell_type": "code",
   "execution_count": null,
   "metadata": {},
   "outputs": [],
   "source": [
    "catalog_list = Vizier.find_catalogs('SDSS DR9')\n",
    "print({k:v.description for k,v in catalog_list.items()})"
   ]
  },
  {
   "cell_type": "markdown",
   "metadata": {},
   "source": [
    "Now, we query \"The SDSS Photometric Catalog, Release 9 (Adelman-McCarthy+, 2012)\". To do so we increase the limit of loaded rows from 50 (default set-up) to as many as there are. "
   ]
  },
  {
   "cell_type": "code",
   "execution_count": null,
   "metadata": {},
   "outputs": [],
   "source": [
    "Vizier.ROW_LIMIT = -1\n",
    "results1 = Vizier.query_region(\"A1656\", radius=\"0d40m0s\", catalog='V/139')\n",
    "print(results1)"
   ]
  },
  {
   "cell_type": "markdown",
   "metadata": {},
   "source": [
    "As you can see the result of our query includes data from one catalogue for 37389 objects (i.e. the catalogue has 37389 rows). The output from this query is a list of astropy.table.table.Table objects. We now select the 0th table in this list, restrict the table to objects, which are galaxies ('cl' = 3) and also SDSS primary sources ('mode' = 1), and use only the columns named 'RA_ICRS', 'DE_ICRS', 'rmag' and 'zsp'. "
   ]
  },
  {
   "cell_type": "code",
   "execution_count": null,
   "metadata": {},
   "outputs": [],
   "source": [
    "sdss_dr9 = results1[0][(results1[0]['cl']==3) & (results1[0]['mode']==1)]\n",
    "sdss_dr9 = sdss_dr9['RA_ICRS', 'DE_ICRS', 'rmag', 'zsp']\n",
    "sdss_dr9"
   ]
  },
  {
   "cell_type": "markdown",
   "metadata": {},
   "source": [
    "## Identify the brightest sources as being stars contaminating the sample\n",
    "Next we would like to exclude stars from our sample. To do so we select the brightest sources ('rmag' < 11.7) and check with the Aladin lite widget that we actually only exclude stars. "
   ]
  },
  {
   "cell_type": "code",
   "execution_count": null,
   "metadata": {},
   "outputs": [],
   "source": [
    "stars = sdss_dr9[sdss_dr9['rmag'] < 11.5]\n",
    "aladin.add_table(stars)\n",
    "print('Our sample contains {} stars.'.format(len(stars)))"
   ]
  },
  {
   "cell_type": "markdown",
   "metadata": {},
   "source": [
    "In the Aladin lite widget you will need to zoom out to properly see all the brightest sources, but looking at each source, will show you that indeed these are all stars. "
   ]
  },
  {
   "cell_type": "markdown",
   "metadata": {},
   "source": [
    "## Build a subset of galaxies with photometry and redshift in SDSS\n",
    "Now on to exploring the galaxies in our sample. \n",
    "We again build a subset, this time for all sources fainter than 11.5mag (to leave out the stars identified in the section above) but brighter than 17.77mag, which is the completeness limit the SDSS spectroscopic sample. "
   ]
  },
  {
   "cell_type": "code",
   "execution_count": null,
   "metadata": {},
   "outputs": [],
   "source": [
    "zsp17 = sdss_dr9[(sdss_dr9['rmag'] > 11.5) & (sdss_dr9['rmag'] < 17.77)]\n",
    "zsp17"
   ]
  },
  {
   "cell_type": "markdown",
   "metadata": {},
   "source": [
    "## Improve the completeness with other sources of redshifts in Vizier\n",
    "As you can see, not all galaxies in our zsp17 sample have redshift measurements (some rows have '--' in the 'zsp' column, i.e. they are masked). So in order to improve the completeness of our sample we will now use Vizier to search for redshifts in the Rines et al (2003) catalogue. "
   ]
  },
  {
   "cell_type": "code",
   "execution_count": null,
   "metadata": {},
   "outputs": [],
   "source": [
    "catalog_list = Vizier.find_catalogs('redshifts Rines 2003')\n",
    "print({k:v.description for k,v in catalog_list.items()})"
   ]
  },
  {
   "cell_type": "markdown",
   "metadata": {},
   "source": [
    "Of these two catalogues, we are interested in the 'J/AJ/126/2152' catalogue, more specifically in their 'galaxies' subtable. So after dividing the zsp17 into two subsamples (the ones with zsp measurements - zsp17_with - and the ones without zsp measurements - zsp17_wihtout), we will use the `astroquery.XMatch.query` module to look for crossmatches of galaxies from the zsp17_wihtout sample in the 'J/AJ/126/2152/galaxies' hosted at Vizier."
   ]
  },
  {
   "cell_type": "code",
   "execution_count": null,
   "metadata": {},
   "outputs": [],
   "source": [
    "ind = (zsp17['zsp'] < 5.) & (zsp17['zsp'] > 0.) # measured redshifts are between 0. and 2.\n",
    "zsp17_with = zsp17[ind]\n",
    "zsp17_without = zsp17[~ind]\n",
    "zsp17_without.write('zsp17_without.csv')\n",
    "table = XMatch.query(cat1=open('zsp17_without.csv'), \n",
    "                     cat2='vizier:J/AJ/126/2152/galaxies',\n",
    "                     max_distance=5 * u.arcsec, colRA1='RA_ICRS',\n",
    "                     colDec1='DE_ICRS')\n",
    "table"
   ]
  },
  {
   "cell_type": "markdown",
   "metadata": {},
   "source": [
    "## Build the final catalogue including the Rines et al. (2003) redshifts\n",
    "With this we now have cz measurements for 27 additional galaxies. Now let's add these data to the zsp17_with table."
   ]
  },
  {
   "cell_type": "code",
   "execution_count": null,
   "metadata": {},
   "outputs": [],
   "source": [
    "zsp17_with['cz'] = zsp17_with['zsp'] * 300000\n",
    "zsp17_without = table[zsp17_with.colnames]\n",
    "zsp17_final = vstack([zsp17_with, zsp17_without])\n",
    "zsp17_final"
   ]
  },
  {
   "cell_type": "markdown",
   "metadata": {},
   "source": [
    "## Determine the cz distribution, the cluster average velocity and velocity dispersion"
   ]
  },
  {
   "cell_type": "code",
   "execution_count": null,
   "metadata": {},
   "outputs": [],
   "source": [
    "sns.set_style(\"darkgrid\")\n",
    "fig = plt.figure(figsize=(7.5, 6.0))\n",
    "ax = fig.add_axes([0.17, 0.17, 0.77, 0.77])\n",
    "sns.distplot(zsp17_final['cz'], rug=True, ax=ax, kde=False)"
   ]
  },
  {
   "cell_type": "markdown",
   "metadata": {},
   "source": [
    "Note how there is a large range of recession velocities in our sample. We are interested in the range of recession velocities of the Coma cluster. To focus on these, we restrict ourselfs to recession velocities between 3000 and 11000 km/s"
   ]
  },
  {
   "cell_type": "code",
   "execution_count": null,
   "metadata": {},
   "outputs": [],
   "source": [
    "sns.set_style(\"darkgrid\")\n",
    "fig = plt.figure(figsize=(7.5, 6.0))\n",
    "ax = fig.add_axes([0.17, 0.17, 0.77, 0.77])\n",
    "ind = (zsp17_final['cz'] > 3000.) & (zsp17_final['cz'] < 11000.)\n",
    "zsp17_coma = zsp17_final[ind]\n",
    "sns.distplot(zsp17_coma['cz'], rug=True, ax=ax, kde=False)\n",
    "ax.set_xlim([3000, 11000])"
   ]
  },
  {
   "cell_type": "markdown",
   "metadata": {},
   "source": [
    "\n",
    "Now let's get some statistics:"
   ]
  },
  {
   "cell_type": "code",
   "execution_count": null,
   "metadata": {},
   "outputs": [],
   "source": [
    "print('The mean velocotity in Coma is: {0:.1f}km/s and \\\n",
    "the standard deviation (i.e. velocity dispersion):\\\n",
    "{1:.1f}km/s'.format(np.mean(zsp17_coma['cz']), np.std(zsp17_coma['cz'])))"
   ]
  },
  {
   "cell_type": "markdown",
   "metadata": {},
   "source": [
    "This is in good agreement with more refined analyses. "
   ]
  },
  {
   "cell_type": "markdown",
   "metadata": {},
   "source": [
    "## Summary\n",
    "In the original tutorial there are three more sections left:\n",
    "    9. Look for HST spectra in the Coma Cluster\n",
    "    10. Visualise and analyse the HST spectrum with CASSIS\n",
    "    11. Fit a gaussian and a continuum to the hydrogen line\n",
    "Since the server selector in Aladin is different now, I was not able to find the spectra and do the remaining tutorial. Thus, I am also not yet able to convert this part of the tutorial to this jupyter notebook. \n",
    "\n",
    "For sections 1. to 8. however, it was possible to translate the tutorial to this jupyter notebook using the ipyaladin widget and the astroquery and astropy packages together with standard python plotting packages (matplotlib and seaborn)."
   ]
  },
  {
   "cell_type": "code",
   "execution_count": null,
   "metadata": {},
   "outputs": [],
   "source": []
  }
 ],
 "metadata": {
  "kernelspec": {
   "display_name": "Python 3",
   "language": "python",
   "name": "python3"
  },
  "language_info": {
   "codemirror_mode": {
    "name": "ipython",
    "version": 3
   },
   "file_extension": ".py",
   "mimetype": "text/x-python",
   "name": "python",
   "nbconvert_exporter": "python",
   "pygments_lexer": "ipython3",
   "version": "3.6.7"
  },
  "widgets": {
   "application/vnd.jupyter.widget-state+json": {
    "state": {
     "0c13f7870adc4211b455bed945015dcf": {
      "model_module": "@jupyter-widgets/base",
      "model_module_version": "1.0.0",
      "model_name": "LayoutModel",
      "state": {}
     },
     "aa178e6e2fae4e91b9e23a3acf69ca1f": {
      "model_module": "jupyter-widget-ipyaladin",
      "model_module_version": "1.0.0",
      "model_name": "ModelAladin",
      "state": {
       "_dom_classes": [],
       "_model_module": "jupyter-widget-ipyaladin",
       "_model_module_version": "1.0.0",
       "_view_count": null,
       "_view_module": "jupyter-widget-ipyaladin",
       "_view_module_version": "",
       "allow_full_zoomout": false,
       "color_map_flag": true,
       "color_map_name": "",
       "coo_frame": "J2000",
       "fov": 1.40619,
       "full_screen": false,
       "layout": "IPY_MODEL_0c13f7870adc4211b455bed945015dcf",
       "listener_flag": true,
       "listener_type": "",
       "log": true,
       "moc_URL": "",
       "moc_dict": {},
       "moc_from_URL_flag": true,
       "moc_from_dict_flag": true,
       "moc_options": {},
       "options": [
        "show_reticle",
        "show_fullscreen_control",
        "show_share_control",
        "show_catalog",
        "target",
        "full_screen",
        "reticle_size",
        "show_layers_control",
        "show_zoom_control",
        "reticle_color",
        "show_coo_grid",
        "allow_full_zoomout",
        "show_goto_control",
        "coo_frame",
        "log",
        "fov",
        "show_frame",
        "survey"
       ],
       "reticle_color": "rgb(178, 50, 178)",
       "reticle_size": 22,
       "show_catalog": true,
       "show_coo_grid": false,
       "show_frame": true,
       "show_fullscreen_control": true,
       "show_goto_control": true,
       "show_layers_control": true,
       "show_reticle": true,
       "show_share_control": false,
       "show_zoom_control": true,
       "survey": "P/DSS2/color",
       "table_columns": [
        [
         194.88736,
         28.065691,
         7.1529998779296875,
         "nan"
        ],
        [
         194.640752,
         28.319632,
         10.307999610900879,
         "nan"
        ],
        [
         195.128886,
         28.458728,
         10.310999870300293,
         "nan"
        ],
        [
         195.541406,
         27.814279,
         11.22700023651123,
         "nan"
        ],
        [
         194.603873,
         27.657591,
         11.380999565124512,
         "nan"
        ],
        [
         194.670155,
         27.474267,
         7.789999961853027,
         "nan"
        ],
        [
         195.17432,
         28.510105,
         9.71500015258789,
         "nan"
        ],
        [
         195.295146,
         27.466945,
         10.520999908447266,
         "nan"
        ],
        [
         194.976192,
         28.631648,
         9.12399959564209,
         "nan"
        ],
        [
         195.082926,
         28.63682,
         10.666999816894531,
         "nan"
        ],
        [
         194.411009,
         28.43057,
         9.704999923706055,
         "nan"
        ]
       ],
       "table_flag": false,
       "table_keys": [
        "RA_ICRS",
        "DE_ICRS",
        "rmag",
        "zsp"
       ],
       "target": "194.952920 27.980560",
       "thumbnail_flag": true,
       "votable_URL": "",
       "votable_from_URL_flag": true,
       "votable_options": {}
      }
     }
    },
    "version_major": 2,
    "version_minor": 0
   }
  }
 },
 "nbformat": 4,
 "nbformat_minor": 2
}
